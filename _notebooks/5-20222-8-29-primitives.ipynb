{
 "cells": [
  {
   "cell_type": "markdown",
   "metadata": {},
   "source": [
    "# Primitives\n",
    "Every program needs at least one class whose name matches the file name (ex myFirstProgram.java)\n",
    "There are eight primitive types (byte, short, boolean, int, double, char, float, long)"
   ]
  },
  {
   "cell_type": "code",
   "execution_count": 10,
   "metadata": {
    "vscode": {
     "languageId": "java"
    }
   },
   "outputs": [
    {
     "name": "stdout",
     "output_type": "stream",
     "text": [
      "Hello I am  10 years old\n",
      "10.8\n"
     ]
    }
   ],
   "source": [
    "public class HelloStatic {\n",
    "    public static void main(String[] args){\n",
    "        int x = 10; //an integer value\n",
    "        double y= 10.8; //a double aka a decimal value\n",
    "        System.out.println(\"Hello I am \" + x + \" years old\");\n",
    "        System.out.println(y);\n",
    "    }\n",
    "}\n",
    "\n",
    "HelloStatic.main(null);\n"
   ]
  },
  {
   "cell_type": "markdown",
   "metadata": {},
   "source": [
    "A "
   ]
  }
 ],
 "metadata": {
  "kernelspec": {
   "display_name": "Java",
   "language": "java",
   "name": "java"
  },
  "language_info": {
   "codemirror_mode": "java",
   "file_extension": ".jshell",
   "mimetype": "text/x-java-source",
   "name": "Java",
   "pygments_lexer": "java",
   "version": "18.0.2+0"
  },
  "orig_nbformat": 4,
  "vscode": {
   "interpreter": {
    "hash": "2a44d7eef9b187025524569ddf3a2a1a27be470d56a25dee2472e0cae8ca170e"
   }
  }
 },
 "nbformat": 4,
 "nbformat_minor": 2
}
