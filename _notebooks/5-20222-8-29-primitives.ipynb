{
 "cells": [
  {
   "cell_type": "markdown",
   "metadata": {},
   "source": [
    "# Primitives\n"
   ]
  },
  {
   "cell_type": "markdown",
   "metadata": {},
   "source": [
    ">Every program needs at least one class whose name matches the file name (ex myFirstProgram.java)\n",
    ">There are eight primitive types (byte, short, boolean, int, double, char, float, long)"
   ]
  },
  {
   "cell_type": "code",
   "execution_count": 12,
   "metadata": {
    "vscode": {
     "languageId": "java"
    }
   },
   "outputs": [
    {
     "name": "stdout",
     "output_type": "stream",
     "text": [
      "Hello I am 10 years old\n",
      "108.0\n"
     ]
    }
   ],
   "source": [
    "public class HelloStatic {\n",
    "    public static void main(String[] args){\n",
    "        int x = 10; //an integer value\n",
    "        double y= 10.8; //a double aka a decimal value\n",
    "        System.out.println(\"Hello I am \" + x + \" years old\");\n",
    "        System.out.println(y*x);//makes 10 multiplied by 10.8 (or x times y)\n",
    "    }\n",
    "}\n",
    "\n",
    "HelloStatic.main(null);\n"
   ]
  },
  {
   "cell_type": "markdown",
   "metadata": {},
   "source": [
    ">A char is basically just any character \n",
    ">Boolean gives out a true or false answer\n",
    ">int is an integer \n",
    ">double is a decimal value \n",
    ">A string is not a primitive"
   ]
  },
  {
   "cell_type": "markdown",
   "metadata": {},
   "source": [
    "## Code.org\n",
    ">all classes have to be named with each word in the class name being capitalized (pascal case)\n",
    ">object is a variable that defines the type of value when called \n",
    "> class \"blueprint\" to make objects\n",
    "> parameter is a value for a method or constructor \n",
    ">argument is a class instance \n",
    "> an if loop can be used to see if the painter needs to continue moving \n",
    ">constructor is named after the class and is the instructions to make a new object \n",
    ">to instantiate an object go ClassName objectName = new ClassName();\n",
    "> to call an object do objectname.action(); \n",
    "> void method does the action but gives back no value"
   ]
  }
 ],
 "metadata": {
  "kernelspec": {
   "display_name": "Java",
   "language": "java",
   "name": "java"
  },
  "language_info": {
   "codemirror_mode": "java",
   "file_extension": ".jshell",
   "mimetype": "text/x-java-source",
   "name": "Java",
   "pygments_lexer": "java",
   "version": "18.0.2+0"
  },
  "orig_nbformat": 4,
  "vscode": {
   "interpreter": {
    "hash": "2a44d7eef9b187025524569ddf3a2a1a27be470d56a25dee2472e0cae8ca170e"
   }
  }
 },
 "nbformat": 4,
 "nbformat_minor": 2
}
