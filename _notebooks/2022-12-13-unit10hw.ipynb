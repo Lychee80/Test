{
 "cells": [
  {
   "cell_type": "markdown",
   "metadata": {},
   "source": [
    "# Unit 10 hw (Table 2 Serafina Wong)"
   ]
  },
  {
   "cell_type": "markdown",
   "metadata": {},
   "source": [
    "# Notes"
   ]
  },
  {
   "cell_type": "markdown",
   "metadata": {},
   "source": [
    "- subclass is the class that is inheriting from the superclass (parent class) using the extends keyword\n",
    "- all attributes in these classes need to be protected not private since or else the subclass will not be able to access it \n",
    "- inheritance is very helpful for efficiency and reusing code \n",
    "- overriding is having a method that has the same name but different parameters making the method signature differ\n",
    "- the super keyword is used to reference and use the code in the superclass\n",
    "- polymorphism has two types runtime polymorphism and late binding with method overriding and static polymorphism and early binding with overloading\n",
    "- everything is the subclass to the object class\n",
    "- this includes methods like toString and .equals (used for strings)"
   ]
  },
  {
   "cell_type": "markdown",
   "metadata": {},
   "source": [
    "# Hack 1\n",
    "In your own notebook, make any class with 2 attributes and 0 methods. Create a 2 argument constructor for that class. This will be your superclass. Now, create a subclass that extends from the superclass you made. Create 1 additional attribute in your subclass that was not present in the superclass.\n",
    "\n",
    "Then, create a constructor for the subclass that uses the superclass constructor with the super keyword, and then adds an additional assignment for the third attribute."
   ]
  },
  {
   "cell_type": "code",
   "execution_count": 2,
   "metadata": {
    "vscode": {
     "languageId": "java"
    }
   },
   "outputs": [],
   "source": [
    "public class Candy {\n",
    "    // attributes\n",
    "    protected String flavor;\n",
    "    protected String type;\n",
    "\n",
    "    \n",
    "    // two argument constructor\n",
    "    public Candy(String flavor,String type) {\n",
    "        this.flavor = flavor;\n",
    "        this.type = type;\n",
    "    }\n",
    "   \n",
    "}\n",
    "\n",
    "\n"
   ]
  },
  {
   "cell_type": "code",
   "execution_count": 3,
   "metadata": {
    "vscode": {
     "languageId": "java"
    }
   },
   "outputs": [],
   "source": [
    "public class Hichew extends Candy {\n",
    "    // argument specific for this subclass\n",
    "    protected int price; \n",
    "    \n",
    "    // three argument constructor\n",
    "    public Hichew(String flavor,String type, int price) {\n",
    "        //super keyword to reference superclass's arguments\n",
    "        super(flavor, type);\n",
    "        this.price=price;\n",
    "    }\n",
    "  \n",
    "    public static void main(String[] args) {\n",
    "        Hichew test = new Hichew(\"Grape\", \"soft candy\",4); \n",
    "    }\n",
    "    \n",
    "    \n",
    "}\n",
    "Hichew.main(null);"
   ]
  },
  {
   "cell_type": "markdown",
   "metadata": {},
   "source": [
    "# Hack 2\n",
    "Add a method to the superclass you created before. This method should be very general; it should only have functionality that you know for sure will be needed in almost every single subclass. In your subclass, override this method. Remember that overriding the method will give your subclass the specific functionality it needs from that method."
   ]
  },
  {
   "cell_type": "code",
   "execution_count": 4,
   "metadata": {
    "vscode": {
     "languageId": "java"
    }
   },
   "outputs": [],
   "source": [
    "public class Candy {\n",
    "    // new attribute named sugarContent\n",
    "    protected String flavor;\n",
    "    protected String type;\n",
    "    protected String sugarContent;\n",
    "\n",
    "    // new method named sugarContent using that attribute\n",
    "    public void sugarContent () {\n",
    "        System.out.println(\"The sugar content is \"+ sugarContent);\n",
    "    }\n",
    "    \n",
    "    // Two argument constructor\n",
    "    public Candy(String flavor,String type) {\n",
    "        this.flavor = flavor;\n",
    "        this.type = type;\n",
    "    }\n",
    "   \n",
    "}\n"
   ]
  },
  {
   "cell_type": "code",
   "execution_count": 5,
   "metadata": {
    "vscode": {
     "languageId": "java"
    }
   },
   "outputs": [
    {
     "name": "stdout",
     "output_type": "stream",
     "text": [
      "The sugar content of a Hichew is high! Don't eat too much\n"
     ]
    }
   ],
   "source": [
    "public class Hichew extends Candy {\n",
    "    // argument specific for this subclass\n",
    "    protected int price; \n",
    "    \n",
    "    // three argument constructor\n",
    "    public Hichew(String flavor,String type, int price) {\n",
    "        //super keyword to reference superclass's arguments\n",
    "        super(flavor, type);\n",
    "        this.price=price;\n",
    "    }\n",
    "  \n",
    "    // Overriding the method in the superclass for sugarContent. This will lead to a changed method in the subclass\n",
    "    // Changed the method to be specific for Hichews\n",
    "    @Override \n",
    "    public void sugarContent () {\n",
    "        System.out.println(\"The sugar content of a Hichew is high! Don't eat too much\");\n",
    "    }\n",
    "\n",
    "    public static void main(String[] args) {\n",
    "        Hichew test = new Hichew(\"Grape\", \"fruit candy\",4); \n",
    "        test.sugarContent();\n",
    "    }\n",
    "    \n",
    "    \n",
    "}\n",
    "Hichew.main(null);"
   ]
  },
  {
   "cell_type": "markdown",
   "metadata": {},
   "source": [
    "# Hack 3\n",
    "Create another subclass from your original superclass. Now, implement method overloading in this subclass. Remember that this means having two methods with the same name, but with different arguments. The method you are using for method overloading doesn't have to exist in the superclass. This will implement Static Polymorphism.\n",
    "\n",
    "Next, override the method in your superclass in your new subclass. Make sure it has different functionality than your method in the other subclass. This will implement Runtime Polymorphism."
   ]
  },
  {
   "cell_type": "code",
   "execution_count": 15,
   "metadata": {
    "vscode": {
     "languageId": "java"
    }
   },
   "outputs": [
    {
     "name": "stdout",
     "output_type": "stream",
     "text": [
      "The sugar content of skittles is high! Don't eat too much\n",
      "This candy is created by the company Mars Wrigley\n",
      "This candy is created by the company Mars Wrigley in 1974\n"
     ]
    }
   ],
   "source": [
    "public class skittles extends Candy {\n",
    "     // argument specific for this subclass\n",
    "     protected int price; \n",
    "   \n",
    "     // three argument constructor\n",
    "     public skittles(String flavor,String type, int price) {\n",
    "         //super keyword to reference superclass's arguments\n",
    "         super(flavor, type);\n",
    "         this.price=price;\n",
    "     }\n",
    "   \n",
    "     // Overriding the method in the superclass for sugarContent. This will lead to a changed method in the subclass\n",
    "     // Changed the method to be specific for skittles\n",
    "    @Override \n",
    "    public void sugarContent () {\n",
    "        System.out.println(\"The sugar content of skittles is high! Don't eat too much\");\n",
    "    }\n",
    "\n",
    "    // method overloading with these two methods with the same name but different arguments\n",
    "   public void company(String company){\n",
    "       System.out.println(\"This candy is created by the company \"+ company);\n",
    "   }\n",
    "   public void company(String company, int year){\n",
    "       System.out.println(\"This candy is created by the company \"+ company + \" in \"+ year);\n",
    "   }\n",
    "    public static void main(String[] args) {\n",
    "        Candy candy = new skittles(\"Assorted\", \"soft candy\", 6);\n",
    "        candy.sugarContent();\n",
    "        skittles pack = new skittles(\"Assorted\", \"soft candy\", 6); \n",
    "        pack.company(\"Mars Wrigley\");\n",
    "        pack.company(\"Mars Wrigley\", 1974);\n",
    "\n",
    "    }\n",
    "    \n",
    "    \n",
    "}\n",
    "skittles.main(null);"
   ]
  }
 ],
 "metadata": {
  "kernelspec": {
   "display_name": "Java",
   "language": "java",
   "name": "java"
  },
  "language_info": {
   "codemirror_mode": "java",
   "file_extension": ".jshell",
   "mimetype": "text/x-java-source",
   "name": "Java",
   "pygments_lexer": "java",
   "version": "19.0.1"
  },
  "orig_nbformat": 4
 },
 "nbformat": 4,
 "nbformat_minor": 2
}
