{
 "cells": [
  {
   "cell_type": "markdown",
   "metadata": {},
   "source": [
    "## Unit Homework\n",
    "| Unit | Grade | Link| \n",
    "| ---- | ----- | -------- |\n",
    "|  1|  1.0 (Teacher)| [Grading](https://lychee80.github.io/Test/2022/12/01/grades.html) |\n",
    "|2  | 1.0 | [Unit 2 Hw ](https://lychee80.github.io/Test/2022/12/01/Unit2.html) |\n",
    "|  3|  0.9|  [Unit 3 Hw](https://lychee80.github.io/Test/2022/10/26/hw.html)|\n",
    "|  4| 1.0 |[Unit 4 Hw](https://lychee80.github.io/Test/2022/10/24/hw.html)  |\n",
    "| 5 |  1.0|[Unit 5 Hw](https://lychee80.github.io/Test/2022/10/26/hw2.html) |\n",
    "Total score: 4.9/5"
   ]
  },
  {
   "cell_type": "markdown",
   "metadata": {},
   "source": [
    "## Casting\n",
    "Changing the value from one data type to another. There are two types of casting including automatic and manual depending on whether you are going from a bigger data type to a smaller data type or vice versa \n",
    "byte -> short -> char -> int -> long -> float -> double (The biggest)\n"
   ]
  },
  {
   "cell_type": "code",
   "execution_count": 8,
   "metadata": {
    "vscode": {
     "languageId": "java"
    }
   },
   "outputs": [
    {
     "name": "stdout",
     "output_type": "stream",
     "text": [
      "0\n",
      "0.3333333333333333\n",
      "1\n",
      "1.0\n"
     ]
    }
   ],
   "source": [
    "public class Main {\n",
    "    public static void main(String args[]) {\n",
    "        int myNum = (int)(.2 + 0.5);\n",
    "        System.out.println(myNum); // use of casting truncating \n",
    "        System.out.println((double) 1 / 3); // use of casting for division\n",
    "        double myDouble = 1.9;\n",
    "        int myInt = (int) myDouble;//larger to smaller and so needs manual casting\n",
    "        System.out.println(myInt);\n",
    "        double automatic = myInt; //smaller to larger and so is automatic and you don't need to declare\n",
    "        System.out.println(automatic)\n",
    "    }\n",
    "  }\n",
    "  Main.main(null);"
   ]
  },
  {
   "cell_type": "markdown",
   "metadata": {},
   "source": [
    "# Wrapper Classes \n",
    "A way to change primitives into objects for use in things like arrayLists. This is helpful since in collection objects, you will not be bale to use primitive types. \n",
    "\n",
    "| Primitive  | Wrapper Class | \n",
    "| -----------| ----- | \n",
    "| byte |Byte  |\n",
    "| short | Short | \n",
    "| int |  Integer| \n",
    "| long | Long | \n",
    "| float |Float | \n",
    "| double | Double | \n",
    "| boolean |Boolean  | \n",
    "| char | Character | "
   ]
  },
  {
   "cell_type": "code",
   "execution_count": 10,
   "metadata": {
    "vscode": {
     "languageId": "java"
    }
   },
   "outputs": [
    {
     "name": "stdout",
     "output_type": "stream",
     "text": [
      "[100]\n",
      "3.09\n",
      "3.09\n"
     ]
    }
   ],
   "source": [
    "public class Main {\n",
    "    public static void main(String args[]) {\n",
    "        ArrayList<Integer> numbers = new ArrayList<Integer>();// here we must use the wrapper class, had we have changed Integer with int the arrayList wouldn't have work\n",
    "        numbers.add(100);\n",
    "        System.out.println(numbers);\n",
    "\n",
    "        Double myNum= 3.09; // This will make a wrapper object as we have used the wrapper class and not the primitive dataType\n",
    "        // We can get the value of this object in two ways \n",
    "        System.out.println(myNum); // just printing the object\n",
    "        System.out.println(myNum.doubleValue());// or by using the object method to return the value\n",
    "    }\n",
    "  }\n",
    "  Main.main(null);"
   ]
  },
  {
   "cell_type": "markdown",
   "metadata": {},
   "source": [
    "# Concatenation\n",
    "It can be used to adjoin strings together or strings with primitives and objects. This can be done using the + operator "
   ]
  },
  {
   "cell_type": "code",
   "execution_count": 13,
   "metadata": {
    "vscode": {
     "languageId": "java"
    }
   },
   "outputs": [
    {
     "name": "stdout",
     "output_type": "stream",
     "text": [
      "This is my number: 20. This number is larger than ten\n"
     ]
    }
   ],
   "source": [
    "public class Main {\n",
    "  public static void main(String args[]) {\n",
    "    int myNum= 20;\n",
    "    String details= \"This number is larger than ten\";\n",
    "    System.out.println(\"This is my number: \"+ 20+ \". \"+ details);\n",
    "  }\n",
    "}\n",
    "Main.main(null);"
   ]
  },
  {
   "cell_type": "markdown",
   "metadata": {},
   "source": [
    "\n",
    "## Math class\n",
    "A static class that with use of primitives can be used to do more complex calculations than just operators and can also allow for random number generation\n",
    "\n"
   ]
  },
  {
   "cell_type": "code",
   "execution_count": 24,
   "metadata": {
    "vscode": {
     "languageId": "java"
    }
   },
   "outputs": [
    {
     "name": "stdout",
     "output_type": "stream",
     "text": [
      "20\n",
      "10\n",
      "14\n",
      "10\n",
      "0.5247222164310595\n",
      "66\n"
     ]
    }
   ],
   "source": [
    "\n",
    "public class Main {\n",
    "    public static void main(String args[]) {\n",
    "      int x= 10;\n",
    "      int y=20;\n",
    "      System.out.println(Math.max(x,y));//finds the maximum number between the two integers\n",
    "      System.out.println(Math.min(x,y));//finds the minimum number between the two integers\n",
    "      System.out.println((int)Math.sqrt(x*y));// this finds the square root of 200. This will return a double and so because a double is bigger than an int we will need to cast this to return a whole number\n",
    "      System.out.println(Math.abs(x-y));// finds the absolute value\n",
    "      System.out.println(Math.random());// this finds a random number between 0 and 1 \n",
    "      System.out.println((int)(Math.random()* 101));// However the range can be changed by multipling the random value (Here the value will have a range of 0-100)\n",
    "    }\n",
    "  }\n",
    "  Main.main(null);"
   ]
  },
  {
   "cell_type": "markdown",
   "metadata": {},
   "source": [
    "\n",
    "## Compound Boolean Expression and De Morgan’s Law\n",
    "You can combine booleon expressions through use of AND (&&)or OR(||). If you use AND, then in this case the boolean will only return true if both expressions are true. However, if you use OR, the expression will return true if at least one expression is true. You can also use the NOT(!) operator which will make it so if the expression is true, it is now false and vice versa. De Morgan's law is basically the distributive property but in terms of booleans so just as you would distribute 3(x+1), you would distribute !(true && false)"
   ]
  },
  {
   "cell_type": "code",
   "execution_count": 27,
   "metadata": {
    "vscode": {
     "languageId": "java"
    }
   },
   "outputs": [
    {
     "name": "stdout",
     "output_type": "stream",
     "text": [
      "Hello World\n",
      "Hello World\n"
     ]
    }
   ],
   "source": [
    "\n",
    "public class Main {\n",
    "    public static void main(String args[]) {\n",
    "      int x= 10;\n",
    "      int y=20;\n",
    "      int z =30;\n",
    "      if(!((x>0)&&(x<y))||z>0){ // Check notes below\n",
    "        System.out.println(\"Hello World\");\n",
    "      }\n",
    "      if(!true || true ){\n",
    "        System.out.println(\"Hello World\");\n",
    "      }\n",
    "     }\n",
    "  }\n",
    "  Main.main(null);"
   ]
  },
  {
   "cell_type": "markdown",
   "metadata": {},
   "source": [
    "A big mistake is that people often think that !(x<0) gives x<0. This is false because the opposite of less than is not greater than but greater than or equals to. This also works vice versa. Additionally, !&& would become || while !|| will become &&"
   ]
  },
  {
   "cell_type": "markdown",
   "metadata": {},
   "source": [
    "\n",
    "## Truth Tables\n",
    "Can be used to visualize boolean outputs "
   ]
  },
  {
   "cell_type": "markdown",
   "metadata": {},
   "source": [
    "\n",
    "## Comparing Numbers vs Comparing Strings\n",
    "When comparing numbers we use == but when comparing strings we must use .equals "
   ]
  },
  {
   "cell_type": "code",
   "execution_count": 30,
   "metadata": {
    "vscode": {
     "languageId": "java"
    }
   },
   "outputs": [
    {
     "name": "stdout",
     "output_type": "stream",
     "text": [
      "false\n",
      "true\n",
      "false\n"
     ]
    }
   ],
   "source": [
    "\n",
    "public class Main {\n",
    "    public static void main(String args[]) {\n",
    "      int x= 10;\n",
    "      int y=20;\n",
    "      String day= \"Today will be a good day\";\n",
    "      String friday= \"Today will be a good day\";\n",
    "      String week= \"Today will be a good week\";\n",
    "      System.out.println(x==y);\n",
    "      System.out.println(day.equals(friday));\n",
    "      System.out.println(day.equals(week));\n",
    "     }\n",
    "  }\n",
    "  Main.main(null);"
   ]
  },
  {
   "cell_type": "markdown",
   "metadata": {},
   "source": [
    "\n",
    "## Comparing Objects\n",
    "you can use either .equals or == depending on what you are using"
   ]
  },
  {
   "cell_type": "code",
   "execution_count": 20,
   "metadata": {
    "vscode": {
     "languageId": "java"
    }
   },
   "outputs": [],
   "source": [
    "public class date {\n",
    "    String month;\n",
    "    int day;\n",
    "    int week;\n",
    "\n",
    "   date(String month, int week, int day){\n",
    "    this.month= month; \n",
    "    this.week=week;\n",
    "    this.day=day;\n",
    "\n",
    "   }\n",
    "    public static void main(String[] args) {\n",
    "      date today= new date(December,1, 1);\n",
    "      date tomorrow= new date(December,1, 2);\n",
    "      System.out.println(today.equals(tomorrow));\n",
    "    }\n",
    "  }\n",
    "  "
   ]
  },
  {
   "cell_type": "markdown",
   "metadata": {},
   "source": [
    "\n",
    "## for loop\n",
    "For as long as something is true, do this"
   ]
  },
  {
   "cell_type": "code",
   "execution_count": 38,
   "metadata": {
    "vscode": {
     "languageId": "java"
    }
   },
   "outputs": [
    {
     "name": "stdout",
     "output_type": "stream",
     "text": [
      "0\n",
      "1\n",
      "2\n",
      "3\n",
      "4\n",
      "apple\n",
      "orange\n",
      "banana\n",
      "pineapple\n",
      "guava\n"
     ]
    }
   ],
   "source": [
    "public class Main {\n",
    "  \n",
    "    public static void main(String[] args) {\n",
    "        for(int i=0; i<5; i++ ){\n",
    "            System.out.println(i);\n",
    "        }\n",
    "        String[] fruits={\"apple\", \"orange\", \"banana\", \"pineapple\", \"guava\"};\n",
    "        for(int i=0; i<fruits.length; i++){\n",
    "            System.out.println(fruits[i]);\n",
    "        }\n",
    "    }\n",
    "  }\n",
    "  Main.main(null);"
   ]
  },
  {
   "cell_type": "markdown",
   "metadata": {},
   "source": [
    "## enhanced for loop\n",
    "A for loop used specifically for arrays "
   ]
  },
  {
   "cell_type": "code",
   "execution_count": 40,
   "metadata": {
    "vscode": {
     "languageId": "java"
    }
   },
   "outputs": [
    {
     "name": "stdout",
     "output_type": "stream",
     "text": [
      "apple\n",
      "orange\n",
      "banana\n",
      "pineapple\n",
      "guava\n"
     ]
    }
   ],
   "source": [
    "public class Main {\n",
    "  \n",
    "    public static void main(String[] args) {\n",
    "        String[] fruits={\"apple\", \"orange\", \"banana\", \"pineapple\", \"guava\"};\n",
    "        for(String i: fruits){ //easier way to iterate through the array\n",
    "            System.out.println(i);\n",
    "        }\n",
    "    }\n",
    "  }\n",
    "  Main.main(null);"
   ]
  },
  {
   "cell_type": "markdown",
   "metadata": {},
   "source": [
    "\n",
    "## while loop versus do while loop: \n",
    "A while loop will do an action for as long as the statement is true. A big mistake most people do is to forget to change the statement to false at some point because or else you have an infinite while loop and your computer will crash. A do while loop is different in that it first does the commands and then checks to see if the statement is true to decided whether or not to continue"
   ]
  },
  {
   "cell_type": "code",
   "execution_count": 4,
   "metadata": {
    "vscode": {
     "languageId": "java"
    }
   },
   "outputs": [
    {
     "name": "stdout",
     "output_type": "stream",
     "text": [
      "0\n",
      "1\n",
      "2\n",
      "3\n",
      "4\n",
      "\n",
      "-1\n"
     ]
    }
   ],
   "source": [
    "public class Main {\n",
    "  \n",
    "    public static void main(String[] args) {\n",
    "        int i=0;\n",
    "        while(i<5){\n",
    "            System.out.println(i);\n",
    "            i++;\n",
    "        }\n",
    "        System.out.println(\"\");\n",
    "        int x=-1;\n",
    "        do{\n",
    "            System.out.println(x);// this will print out x as -1 before incrementing it to x=0\n",
    "            x++;\n",
    "        }while(x<0);// now that x= 0, it no longer fits the condition and so the loop will terminate\n",
    "    }\n",
    "  }\n",
    "  Main.main(null);"
   ]
  },
  {
   "cell_type": "markdown",
   "metadata": {},
   "source": [
    "\n",
    "## nested loops\n",
    "Nested loops are loops inside of other loops"
   ]
  },
  {
   "cell_type": "code",
   "execution_count": 12,
   "metadata": {
    "vscode": {
     "languageId": "java"
    }
   },
   "outputs": [
    {
     "name": "stdout",
     "output_type": "stream",
     "text": [
      "\n",
      "week 1\n",
      "\n",
      "days 0\n",
      "days 1\n",
      "days 2\n",
      "days 3\n",
      "days 4\n",
      "days 5\n",
      "days 6\n",
      "\n",
      "week 2\n",
      "\n",
      "days 0\n",
      "days 1\n",
      "days 2\n",
      "days 3\n",
      "days 4\n",
      "days 5\n",
      "days 6\n"
     ]
    }
   ],
   "source": [
    "public class Main {\n",
    "  \n",
    "    public static void main(String[] args) {\n",
    "      int weeks =2;\n",
    "      int days= 7; \n",
    "      for(int x =1; x<=weeks; x++){\n",
    "        System.out.println(\"\");\n",
    "        System.out.println(\"week \" + x);\n",
    "        System.out.println(\"\");\n",
    "        for(int i=0; i<+ days; i++){\n",
    "            System.out.println(\"days \"+i);\n",
    "        }\n",
    "      }\n",
    "       \n",
    "    }\n",
    "  }\n",
    "  Main.main(null);"
   ]
  },
  {
   "cell_type": "markdown",
   "metadata": {},
   "source": [
    "Class, Methods, Objects, Constructors\n",
    "- Class- defines a new data type like a blueprint\n",
    "- Object- specific instance of a class with defined attributes\n",
    "- Behaviors or methods- defines what an object can do \n",
    "- Attributes or instance variables defines what the object knows about itself \n",
    "- Dot operator (.)  is used to run an object’s method. You can think of the (.) as asking the object to do something (execute one of its methods).\n",
    "- To create or declare a new object, write: ClassName variableName = new ClassName(arguments);\n",
    "- Make a class→ then can make many objects\n",
    "- Parameters refers to the list of variables in a method declaration.\n",
    "- Arguments are the actual values that are passed in when the method is invoked.\n",
    "- describe Naming Conventions: A class' naming conventions is around the same as a method's naming conventions, they both need to be camel case \n",
    "- Constructor, describe why there is no return: A constructor is the another method to initalize objects for when an object is created and used to make the first attributes of an object, this is why there is no return\n",
    "- Java has many different types of access variables such as Private, default, protected, and public \n",
    "- private means that the access is restricted to that one class\n",
    "- Protected means that the access is restricted to every class in that package in subclasses if its not in that package\n",
    "- default has the regular access\n",
    "- public means from anywhere you can access this\n",
    "- static vs public : public you need an object to access the method and static you can access anywhere\n",
    "- Accessor methods- they are the getters of the methods and all you to get the values of any variables, they don't need parameters and will return a value so they are not void\n",
    "- Mutator methods however are teh setters and using them you can change the values of the variables, it is void since it will not return a value and will take parameters"
   ]
  },
  {
   "cell_type": "code",
   "execution_count": null,
   "metadata": {
    "vscode": {
     "languageId": "java"
    }
   },
   "outputs": [],
   "source": []
  }
 ],
 "metadata": {
  "kernelspec": {
   "display_name": "Java",
   "language": "java",
   "name": "java"
  },
  "language_info": {
   "codemirror_mode": "java",
   "file_extension": ".jshell",
   "mimetype": "text/x-java-source",
   "name": "Java",
   "pygments_lexer": "java",
   "version": "19.0.1"
  },
  "orig_nbformat": 4
 },
 "nbformat": 4,
 "nbformat_minor": 2
}
