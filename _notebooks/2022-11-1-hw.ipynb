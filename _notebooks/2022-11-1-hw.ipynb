{
 "cells": [
  {
   "cell_type": "markdown",
   "metadata": {},
   "source": [
    "# Array Unit Hw"
   ]
  },
  {
   "cell_type": "markdown",
   "metadata": {},
   "source": [
    "## Swap"
   ]
  },
  {
   "cell_type": "code",
   "execution_count": 15,
   "metadata": {
    "vscode": {
     "languageId": "java"
    }
   },
   "outputs": [
    {
     "name": "stdout",
     "output_type": "stream",
     "text": [
      "1  2  3  4  5  6  7  8  9  10  \n",
      "To\n",
      "10  9  8  7  6  5  4  3  2  1  "
     ]
    }
   ],
   "source": [
    "import java.util.Arrays; \n",
    " public class Array {\n",
    " public static void main(String[] args)\n",
    " {\n",
    "    int[] array = {1, 2, 3, 4, 5, 6 , 7 ,8 ,9, 10};\n",
    "    for(int i=0;i<array.length;i++)\n",
    "         System.out.print(array[i] + \"  \");\n",
    "    \tSystem.out.println(\"\\n\"+ \"To\");\n",
    "         for(int i=array.length-1;i>=0;i--)\n",
    "         System.out.print(array[i] + \"  \");\n",
    " }\n",
    "}\n",
    "Array.main(null);"
   ]
  },
  {
   "cell_type": "markdown",
   "metadata": {},
   "source": [
    "## Check for Duplicates"
   ]
  },
  {
   "cell_type": "code",
   "execution_count": 17,
   "metadata": {
    "vscode": {
     "languageId": "java"
    }
   },
   "outputs": [
    {
     "name": "stdout",
     "output_type": "stream",
     "text": [
      "Duplicates:\n",
      "3\n",
      "4\n"
     ]
    }
   ],
   "source": [
    "import java.util.Arrays; \n",
    "public class Array {\n",
    "  public static void main(String[] args) \n",
    "    {\n",
    "        int[] array = {1, 2, 3, 4, 5, 4, 3};\n",
    "        System.out.println(\"Duplicates:\" );\n",
    " \n",
    "        for (int i = 0; i < array.length-1; i++)\n",
    "        {\n",
    "            for (int j = i+1; j < array.length; j++)\n",
    "            {\n",
    "                if ((array[i] == array[j]) && (i != j))\n",
    "                {\n",
    "                    System.out.println(array[j]);\n",
    "                }\n",
    "            }\n",
    "        }\n",
    "    }    \n",
    "}\n",
    "Array.main(null);"
   ]
  }
 ],
 "metadata": {
  "kernelspec": {
   "display_name": "Java",
   "language": "java",
   "name": "java"
  },
  "language_info": {
   "codemirror_mode": "java",
   "file_extension": ".jshell",
   "mimetype": "text/x-java-source",
   "name": "Java",
   "pygments_lexer": "java",
   "version": "19.0.1"
  },
  "orig_nbformat": 4,
  "vscode": {
   "interpreter": {
    "hash": "aee8b7b246df8f9039afb4144a1f6fd8d2ca17a180786b69acc140d282b71a49"
   }
  }
 },
 "nbformat": 4,
 "nbformat_minor": 2
}
