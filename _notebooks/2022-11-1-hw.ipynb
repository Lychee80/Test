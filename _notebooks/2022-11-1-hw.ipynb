{
 "cells": [
  {
   "cell_type": "markdown",
   "metadata": {},
   "source": [
    "# Unit Hw"
   ]
  },
  {
   "cell_type": "code",
   "execution_count": 3,
   "metadata": {
    "vscode": {
     "languageId": "java"
    }
   },
   "outputs": [
    {
     "name": "stdout",
     "output_type": "stream",
     "text": [
      "Original: [1, 2, 3]\n",
      "New Array: [3, 2, 1]\n"
     ]
    }
   ],
   "source": [
    "import java.util.Arrays; \n",
    " public class Array {\n",
    " public static void main(String[] args)\n",
    " {\n",
    "    int[] array = {1, 2, 3};\n",
    "\tSystem.out.println(\"Original: \"+Arrays.toString(array)); \n",
    "\tint x = array[0];\n",
    "\tarray[0] = array[array.length-1];\n",
    "\tarray[array.length-1] = x;\n",
    "\tSystem.out.println(\"New: \"+Arrays.toString(array));  \n",
    " }\n",
    "}\n",
    "Array.main(null);"
   ]
  },
  {
   "cell_type": "code",
   "execution_count": 5,
   "metadata": {
    "vscode": {
     "languageId": "java"
    }
   },
   "outputs": [
    {
     "ename": "IncompleteSourceException",
     "evalue": "public class Array {\n public static void main(String[] args)\n {\n        public boolean containsDuplicate(int[] nums) {\n            for (int i = 1; i < nums.length; ++ i) {\n                for (int j = 0; j < i; ++ j) {\n                    if (nums[i] == nums[j]) {\n                        return true;\n                    }\n                }\n            }\n            return false;\n        }\n}\nArray.main(null);",
     "output_type": "error",
     "traceback": [
      "\u001b[1m\u001b[31mIncomplete input:\u001b[0m",
      "\u001b[1m\u001b[30m|   \u001b[1m\u001b[30mpublic class Array {\u001b[0m",
      "\u001b[1m\u001b[30m|   \u001b[1m\u001b[30m public static void main(String[] args)\u001b[0m",
      "\u001b[1m\u001b[30m|   \u001b[1m\u001b[30m {\u001b[0m",
      "\u001b[1m\u001b[30m|   \u001b[1m\u001b[30m        public boolean containsDuplicate(int[] nums) {\u001b[0m",
      "\u001b[1m\u001b[30m|   \u001b[1m\u001b[30m            for (int i = 1; i < nums.length; ++ i) {\u001b[0m",
      "\u001b[1m\u001b[30m|   \u001b[1m\u001b[30m                for (int j = 0; j < i; ++ j) {\u001b[0m",
      "\u001b[1m\u001b[30m|   \u001b[1m\u001b[30m                    if (nums[i] == nums[j]) {\u001b[0m",
      "\u001b[1m\u001b[30m|   \u001b[1m\u001b[30m                        return true;\u001b[0m",
      "\u001b[1m\u001b[30m|   \u001b[1m\u001b[30m                    }\u001b[0m",
      "\u001b[1m\u001b[30m|   \u001b[1m\u001b[30m                }\u001b[0m",
      "\u001b[1m\u001b[30m|   \u001b[1m\u001b[30m            }\u001b[0m",
      "\u001b[1m\u001b[30m|   \u001b[1m\u001b[30m            return false;\u001b[0m",
      "\u001b[1m\u001b[30m|   \u001b[1m\u001b[30m        }\u001b[0m",
      "\u001b[1m\u001b[30m|   \u001b[1m\u001b[30m}\u001b[0m",
      "\u001b[1m\u001b[30m|   \u001b[1m\u001b[30mArray.main(null);\u001b[0m"
     ]
    }
   ],
   "source": [
    "import java.util.Arrays; \n",
    " public class Array {\n",
    " public static void main(String[] args)\n",
    " {\n",
    "      \n",
    "}\n",
    "Array.main(null);"
   ]
  }
 ],
 "metadata": {
  "kernelspec": {
   "display_name": "Java",
   "language": "java",
   "name": "java"
  },
  "language_info": {
   "codemirror_mode": "java",
   "file_extension": ".jshell",
   "mimetype": "text/x-java-source",
   "name": "Java",
   "pygments_lexer": "java",
   "version": "18.0.2+0"
  },
  "orig_nbformat": 4,
  "vscode": {
   "interpreter": {
    "hash": "aee8b7b246df8f9039afb4144a1f6fd8d2ca17a180786b69acc140d282b71a49"
   }
  }
 },
 "nbformat": 4,
 "nbformat_minor": 2
}
