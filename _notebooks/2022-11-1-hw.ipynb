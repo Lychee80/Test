{
 "cells": [
  {
   "cell_type": "markdown",
   "metadata": {},
   "source": [
    "# Array Unit Hw"
   ]
  },
  {
   "cell_type": "markdown",
   "metadata": {},
   "source": [
    "## Swap"
   ]
  },
  {
   "cell_type": "code",
   "execution_count": 18,
   "metadata": {
    "vscode": {
     "languageId": "java"
    }
   },
   "outputs": [
    {
     "name": "stdout",
     "output_type": "stream",
     "text": [
      "Original: [1, 2, 3]\n",
      "New: [3, 2, 1]\n"
     ]
    }
   ],
   "source": [
    "import java.util.Arrays; \n",
    " public class Array {\n",
    " public static void main(String[] args)\n",
    " {\n",
    "    int[] array = {1, 2, 3};\n",
    "\tSystem.out.println(\"Original: \"+Arrays.toString(array)); \n",
    "\tint x = array[0];\n",
    "\tarray[0] = array[array.length-1];\n",
    "\tarray[array.length-1] = x;\n",
    "\tSystem.out.println(\"New: \"+Arrays.toString(array));  \n",
    " }\n",
    "}\n",
    "Array.main(null);"
   ]
  },
  {
   "cell_type": "markdown",
   "metadata": {},
   "source": [
    "## Check for Duplicates"
   ]
  },
  {
   "cell_type": "code",
   "execution_count": 5,
   "metadata": {
    "vscode": {
     "languageId": "java"
    }
   },
   "outputs": [
    {
     "name": "stdout",
     "output_type": "stream",
     "text": [
      "Duplicate: 3\n",
      "Duplicate: 4\n"
     ]
    }
   ],
   "source": [
    "import java.util.Arrays; \n",
    "public class Array {\n",
    "  public static void main(String[] args) \n",
    "    {\n",
    "        int[] array = {1, 2, 3, 4, 5, 4, 3};\n",
    " \n",
    "        for (int i = 0; i < array.length-1; i++)\n",
    "        {\n",
    "            for (int j = i+1; j < array.length; j++)\n",
    "            {\n",
    "                if ((array[i] == array[j]) && (i != j))\n",
    "                {\n",
    "                    System.out.println(\"Duplicate: \"+array[j]);\n",
    "                }\n",
    "            }\n",
    "        }\n",
    "    }    \n",
    "}\n",
    "Array.main(null);"
   ]
  }
 ],
 "metadata": {
  "kernelspec": {
   "display_name": "Java",
   "language": "java",
   "name": "java"
  },
  "language_info": {
   "codemirror_mode": "java",
   "file_extension": ".jshell",
   "mimetype": "text/x-java-source",
   "name": "Java",
   "pygments_lexer": "java",
   "version": "19.0.1"
  },
  "orig_nbformat": 4,
  "vscode": {
   "interpreter": {
    "hash": "aee8b7b246df8f9039afb4144a1f6fd8d2ca17a180786b69acc140d282b71a49"
   }
  }
 },
 "nbformat": 4,
 "nbformat_minor": 2
}
