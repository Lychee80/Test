{
 "cells": [
  {
   "cell_type": "markdown",
   "metadata": {},
   "source": [
    "# Array Unit Hw"
   ]
  },
  {
   "cell_type": "markdown",
   "metadata": {},
   "source": [
    "## Swap"
   ]
  },
  {
   "cell_type": "code",
   "execution_count": 12,
   "metadata": {
    "vscode": {
     "languageId": "java"
    }
   },
   "outputs": [
    {
     "name": "stdout",
     "output_type": "stream",
     "text": [
      "Swap first and last\n",
      "1  2  3  4  5  6  7  8  9  10   \n",
      "10  2  3  4  5  6  7  8  9  1  "
     ]
    }
   ],
   "source": [
    "import java.util.Arrays; \n",
    " public class Array {\n",
    " public static void main(String[] args){\n",
    "     System.out.println(\"Swap first and last\");\n",
    "    int[] array = {1, 2, 3, 4, 5, 6 , 7 ,8 ,9, 10};\n",
    "    for(int i=0;i<array.length;i++){\n",
    "          System.out.print(array[i] + \"  \");\n",
    "     }\n",
    "     System.out.println(\" \");\n",
    "    int first = array[0];\n",
    "    array[0] = array[array.length-1];\n",
    "    array[array.length-1] = first;\n",
    "    for(int i=0;i<array.length;i++){\n",
    "          System.out.print(array[i] + \"  \");\n",
    "    }\n",
    "        \n",
    "}\n",
    "}\n",
    "Array.main(null);"
   ]
  },
  {
   "cell_type": "markdown",
   "metadata": {},
   "source": [
    "# Replace even numbers with zero"
   ]
  },
  {
   "cell_type": "code",
   "execution_count": 16,
   "metadata": {
    "vscode": {
     "languageId": "java"
    }
   },
   "outputs": [
    {
     "name": "stdout",
     "output_type": "stream",
     "text": [
      "Replace even numbers with zero \n",
      "1  2  3  4  5  6  7  8  9  10   \n",
      "1  0  3  0  5  0  7  0  9  0  "
     ]
    }
   ],
   "source": [
    "import java.util.Arrays; \n",
    "public class Array {\n",
    "  public static void main(String[] args) {  \n",
    "   System.out.println(\"Replace even numbers with zero \");\n",
    "    int[] array = {1, 2, 3, 4, 5, 6 , 7 ,8 ,9, 10};\n",
    "    for(int i=0;i<array.length;i++){\n",
    "          System.out.print(array[i] + \"  \");\n",
    "     }\n",
    "     System.out.println(\" \");\n",
    "        for (int i=0;i<array.length;i++)\n",
    "        {\n",
    "           if(array[i]%2==0){\n",
    "            System.out.print(\"0  \");\n",
    "           } else{\n",
    "            System.out.print(array[i]+ \"  \");\n",
    "           }\n",
    "        }\n",
    "    }    \n",
    "}\n",
    "Array.main(null);"
   ]
  },
  {
   "cell_type": "markdown",
   "metadata": {},
   "source": [
    "# Increasing Order"
   ]
  },
  {
   "cell_type": "code",
   "execution_count": 34,
   "metadata": {
    "vscode": {
     "languageId": "java"
    }
   },
   "outputs": [
    {
     "name": "stdout",
     "output_type": "stream",
     "text": [
      "Check for increasing order\n",
      "1  2  3  4  5  6  7  8  9  10   \n",
      "Is this array increasing: true\n"
     ]
    }
   ],
   "source": [
    "import java.util.Arrays; \n",
    "public class Array {\n",
    "  public static void main(String[] args) {  \n",
    "   System.out.println(\"Check for increasing order\" );\n",
    "   Boolean increasing= true;\n",
    "    int[] array = {1, 2, 3, 4, 5, 6 , 7 ,8 ,9, 10};\n",
    "    for(int i=0;i<array.length;i++){\n",
    "      System.out.print(array[i] + \"  \");\n",
    " }\n",
    "    for(int i=0;i<array.length-1;i++){\n",
    "      if (array[i] < array[i + 1]){\n",
    "         increasing= true;\n",
    "         }else {\n",
    "            increasing= false;\n",
    "         }\n",
    "     }\n",
    "     System.out.println(\" \");\n",
    "     System.out.println(\"Is this array increasing: \"+ increasing);\n",
    "   }\n",
    "}\n",
    "Array.main(null);"
   ]
  },
  {
   "cell_type": "markdown",
   "metadata": {},
   "source": [
    "# Check for duplicates"
   ]
  },
  {
   "cell_type": "code",
   "execution_count": 19,
   "metadata": {
    "vscode": {
     "languageId": "java"
    }
   },
   "outputs": [
    {
     "name": "stdout",
     "output_type": "stream",
     "text": [
      "Duplicate Numbers:\n",
      "3  4  "
     ]
    }
   ],
   "source": [
    "import java.util.Arrays; \n",
    "public class Array {\n",
    "  public static void main(String[] args) \n",
    "    {\n",
    "        int[] array = {1, 2, 3, 4, 5, 4, 3};\n",
    "        System.out.println(\"Duplicate Numbers:\" );\n",
    " \n",
    "        for (int i = 0; i < array.length-1; i++)\n",
    "        {\n",
    "            for (int j = i+1; j < array.length; j++)\n",
    "            {\n",
    "                if ((array[i] == array[j]) && (i != j))\n",
    "                {\n",
    "                    System.out.print(array[j]+ \"  \");\n",
    "                }\n",
    "            }\n",
    "        }\n",
    "    }    \n",
    "}\n",
    "Array.main(null);"
   ]
  },
  {
   "cell_type": "code",
   "execution_count": null,
   "metadata": {
    "vscode": {
     "languageId": "java"
    }
   },
   "outputs": [],
   "source": []
  }
 ],
 "metadata": {
  "kernelspec": {
   "display_name": "Java",
   "language": "java",
   "name": "java"
  },
  "language_info": {
   "codemirror_mode": "java",
   "file_extension": ".jshell",
   "mimetype": "text/x-java-source",
   "name": "Java",
   "pygments_lexer": "java",
   "version": "19.0.1"
  },
  "orig_nbformat": 4,
  "vscode": {
   "interpreter": {
    "hash": "aee8b7b246df8f9039afb4144a1f6fd8d2ca17a180786b69acc140d282b71a49"
   }
  }
 },
 "nbformat": 4,
 "nbformat_minor": 2
}
