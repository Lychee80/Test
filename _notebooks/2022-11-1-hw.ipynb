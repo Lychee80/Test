{
 "cells": [
  {
   "cell_type": "markdown",
   "metadata": {},
   "source": [
    "# Array Unit Hw"
   ]
  },
  {
   "cell_type": "code",
   "execution_count": null,
   "metadata": {
    "vscode": {
     "languageId": "java"
    }
   },
   "outputs": [],
   "source": [
    "import java.util.Arrays; \n",
    " public class Array {\n",
    " public static void main(String[] args)\n",
    " {\n",
    "    int[] array = {1, 2, 3};\n",
    "\tSystem.out.println(\"Original: \"+Arrays.toString(array)); \n",
    "\tint x = array[0];\n",
    "\tarray[0] = array[array.length-1];\n",
    "\tarray[array.length-1] = x;\n",
    "\tSystem.out.println(\"New: \"+Arrays.toString(array));  \n",
    " }\n",
    "}\n",
    "Array.main(null);"
   ]
  },
  {
   "cell_type": "code",
   "execution_count": null,
   "metadata": {
    "vscode": {
     "languageId": "java"
    }
   },
   "outputs": [],
   "source": [
    "import java.util.Arrays; \n",
    " public class Array {\n",
    "\n",
    " public static boolean Sort(int[] a) \n",
    "    {\n",
    "        int i;\n",
    "        for(i = 0; i < a.length; i ++);{\n",
    "            if (a[i] < a[i+1]) {\n",
    "                return true;\n",
    "            } else {\n",
    "                return false;   \n",
    "            }\n",
    "        }\n",
    "    }\n",
    "    public static void main(String[] args)\n",
    "    {\n",
    "        int ar[] = {1,2,3};\n",
    "        System.out.println(Sort(ar));   \n",
    "    }\n",
    "      \n",
    "}\n",
    "Array.main(null);"
   ]
  }
 ],
 "metadata": {
  "kernelspec": {
   "display_name": "Java",
   "language": "java",
   "name": "java"
  },
  "language_info": {
   "codemirror_mode": "java",
   "file_extension": ".jshell",
   "mimetype": "text/x-java-source",
   "name": "Java",
   "pygments_lexer": "java",
   "version": "18.0.2+0"
  },
  "orig_nbformat": 4,
  "vscode": {
   "interpreter": {
    "hash": "aee8b7b246df8f9039afb4144a1f6fd8d2ca17a180786b69acc140d282b71a49"
   }
  }
 },
 "nbformat": 4,
 "nbformat_minor": 2
}
