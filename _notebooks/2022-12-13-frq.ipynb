{
 "cells": [
  {
   "cell_type": "markdown",
   "metadata": {},
   "source": [
    "# 2019 frq 3"
   ]
  },
  {
   "cell_type": "code",
   "execution_count": null,
   "metadata": {},
   "outputs": [],
   "source": [
    "public LightBoard(int numRows, int numCols){\n",
    "    lights = new boolean[numRows][numCols];\n",
    "    for (int r = 0; r < numRows; r++) {\n",
    "        for (int c = 0; c < numCols; c++){\n",
    "            double rnd = Math.random();\n",
    "            lights[r][c] = rnd < 0.4; \n",
    "            }\n",
    "        } \n",
    "}\n"
   ]
  },
  {
   "cell_type": "code",
   "execution_count": null,
   "metadata": {},
   "outputs": [],
   "source": [
    "public boolean evaluateLight(int row, int col) {\n",
    "    int numOn = 0;\n",
    "    for (int r = 0; r < lights.length; r++){\n",
    "        if (lights[r][col]) {\n",
    "            numOn++;\n",
    "        } \n",
    "    }\n",
    "        if (lights[row][col] && numOn % 2 == 0) { return false;}\n",
    "    if (!lights[row][col] && numOn % 3 == 0) { return true;}\n",
    "            return lights[row][col]; \n",
    "}\n"
   ]
  }
 ],
 "metadata": {
  "kernelspec": {
   "display_name": "Java",
   "language": "java",
   "name": "java"
  },
  "language_info": {
   "name": "java"
  },
  "orig_nbformat": 4
 },
 "nbformat": 4,
 "nbformat_minor": 2
}
