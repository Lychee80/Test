{
 "cells": [
  {
   "cell_type": "markdown",
   "metadata": {},
   "source": [
    "# Array hw"
   ]
  },
  {
   "cell_type": "code",
   "execution_count": 29,
   "metadata": {},
   "outputs": [
    {
     "name": "stdout",
     "output_type": "stream",
     "text": [
      "i\n"
     ]
    }
   ],
   "source": [
    "// Hack 1\n",
    "public class Test {\n",
    "\n",
    "    public static void main(String[] args) {\n",
    " \n",
    "      String[][] arr = {\n",
    "         { \"a\", \"f\", \"g\" },\n",
    "         { \"b\", \"e\", \"h\" },\n",
    "         { \"c\", \"d\", \"i\" }\n",
    "      };\n",
    " \n",
    "      // Print the last element in the array!\n",
    "       System.out.println(arr[2][2]);\n",
    "    }\n",
    " \n",
    " }\n",
    " Test.main(null);"
   ]
  },
  {
   "cell_type": "code",
   "execution_count": 30,
   "metadata": {},
   "outputs": [
    {
     "name": "stdout",
     "output_type": "stream",
     "text": [
      "Change Austin to Athens and print!\n",
      "Athens\n"
     ]
    }
   ],
   "source": [
    "// Hack 2\n",
    "public class Test {\n",
    "\n",
    "    public static void main(String[] args) {\n",
    " \n",
    "      String[][] arr = {\n",
    "         { \"Atlanta\", \"Baltimore\", \"Chicago\" },\n",
    "         { \"Australia\", \"Boston\", \"Cincinnati\" },\n",
    "         { \"Austin\", \"Beaumont\", \"Columbus\" }\n",
    "      };\n",
    " \n",
    "      arr[2][0]= \"Athens\";\n",
    "       // Change Austin to Athens and print!\n",
    "       System.out.println(\"Change Austin to Athens and print!\");\n",
    "       System.out.println(arr[2][0]);\n",
    "       \n",
    "    }\n",
    " \n",
    " }\n",
    " Test.main(null);"
   ]
  },
  {
   "cell_type": "code",
   "execution_count": 31,
   "metadata": {},
   "outputs": [
    {
     "name": "stdout",
     "output_type": "stream",
     "text": [
      "Atlanta\n",
      "Baltimore\n",
      "Chicago\n",
      "Australia\n",
      "Boston\n",
      "Cincinnati\n",
      "Austin\n",
      "Beaumont\n",
      "Columbus\n"
     ]
    }
   ],
   "source": [
    "// Hack 3\n",
    "public class Test {\n",
    "\n",
    "    public static void main(String[] args) {\n",
    " \n",
    "       String[][] arr = {\n",
    "          { \"Atlanta\", \"Baltimore\", \"Chicago\" },\n",
    "          { \"Australia\", \"Boston\", \"Cincinnati\" },\n",
    "          { \"Austin\", \"Beaumont\", \"Columbus\" }\n",
    "       };\n",
    " \n",
    "       // Print out the array without using numerical values!\n",
    "      for(int i=0; i<arr.length; i++){\n",
    "         for(int j=0; j<arr.length; j++){\n",
    "            System.out.println(arr[i][j]);\n",
    "\n",
    "         }\n",
    "      }\n",
    "    }\n",
    " \n",
    " }\n",
    " Test.main(null);"
   ]
  },
  {
   "cell_type": "code",
   "execution_count": 14,
   "metadata": {},
   "outputs": [
    {
     "name": "stdout",
     "output_type": "stream",
     "text": [
      "Cincinnati\n",
      "Use nested for loops to find the longest or shortest string!\n"
     ]
    }
   ],
   "source": [
    "// Hack 4\n",
    "public class Test {\n",
    "\n",
    "    public static void main(String[] args) {\n",
    "  \n",
    "        String[][] arr = {\n",
    "            { \"Atlanta\", \"Baltimore\", \"Chicago\" },\n",
    "            { \"Australia\", \"Boston\", \"Cincinnati\" },\n",
    "            { \"Austin\", \"Beaumont\", \"Columbus\" }\n",
    "        };\n",
    "        String match = arr[0][0];\n",
    "\n",
    "    for (int i = 0; i < arr.length; i++){\n",
    "      for (int j = 0; j < arr[i].length; j++){\n",
    "        if(match.length() < arr[i][j].length()) { \n",
    "          match = arr[i][j];\n",
    "        }\n",
    "      }\n",
    "    }\n",
    "\n",
    "         System.out.println(match);\n",
    "\n",
    "        // Use nested for loops to find the longest or shortest string!\n",
    "        System.out.println(\"Use nested for loops to find the longest or shortest string!\");\n",
    "        \n",
    "    }\n",
    " \n",
    " }\n",
    "Test.main(null);"
   ]
  },
  {
   "cell_type": "markdown",
   "metadata": {},
   "source": [
    "# 2017 Frq Q4"
   ]
  },
  {
   "cell_type": "code",
   "execution_count": null,
   "metadata": {},
   "outputs": [],
   "source": [
    "public static Position findPosition(int num, int[][] intArr)\n",
    "{\n",
    "     for (int row=0; row < intArr.length; row++)\n",
    "     {\n",
    "           for (int col=0; col < intArr[0].length; col++)\n",
    "           {\n",
    "                if (intArr[row][col] == num)\n",
    "                {\n",
    "                      return new Position(row, col);\n",
    "            }\n",
    "    }       \n",
    "}\n",
    "\n",
    "     return null;\n",
    "}\n"
   ]
  },
  {
   "cell_type": "code",
   "execution_count": null,
   "metadata": {},
   "outputs": [],
   "source": [
    "public static Position[][] getSuccessorArray(int[][] intArr)\n",
    "{\n",
    "Position[][] newArr = new Position[intArr.length][intArr[0].length];\n",
    "     for (int row=0; row < intArr.length; row++)\n",
    "     {\n",
    "           for (int col=0; col < intArr[0].length; col++){ \n",
    "            newArr[row][col] = findPosition(intArr[row][col]+1, intArr); \n",
    "        }\n",
    "    }\n",
    "     return newArr;\n",
    "}"
   ]
  },
  {
   "cell_type": "markdown",
   "metadata": {},
   "source": [
    "# Extra Credit"
   ]
  },
  {
   "cell_type": "code",
   "execution_count": 38,
   "metadata": {},
   "outputs": [
    {
     "name": "stdout",
     "output_type": "stream",
     "text": [
      "  \n",
      "  \n",
      "  \n",
      "  \n",
      "* \n",
      "  \n",
      "  \n",
      "  \n",
      "  \n",
      "  \n",
      "  \n",
      "  \n",
      "* \n",
      "* \n",
      "* \n",
      "  \n",
      "  \n",
      "  \n",
      "  \n",
      "  \n",
      "* \n",
      "* \n",
      "* \n",
      "* \n",
      "* \n",
      "  \n",
      "  \n",
      "  \n",
      "  \n",
      "  \n",
      "* \n",
      "* \n",
      "* \n",
      "  \n",
      "  \n",
      "  \n",
      "  \n",
      "  \n",
      "* \n",
      "* \n",
      "* \n",
      "* \n",
      "* \n",
      "  \n",
      "  \n",
      "  \n",
      "* \n",
      "* \n",
      "* \n",
      "* \n",
      "* \n",
      "* \n",
      "* \n",
      "  \n",
      "  \n",
      "  \n",
      "* \n",
      "* \n",
      "* \n",
      "* \n",
      "* \n",
      "  \n",
      "  \n",
      "  \n",
      "* \n",
      "* \n",
      "* \n",
      "* \n",
      "* \n",
      "* \n",
      "* \n",
      "  \n",
      "* \n",
      "* \n",
      "* \n",
      "* \n",
      "* \n",
      "* \n",
      "* \n",
      "* \n",
      "* \n"
     ]
    }
   ],
   "source": [
    "// Hack 3\n",
    "public class Test {\n",
    "\n",
    "    public static void main(String[] args) {\n",
    " \n",
    "        String[][] arr = {\n",
    "            { \" \", \" \", \" \", \" \", \"*\", \" \", \" \", \" \", \" \"},\n",
    "            { \" \", \" \", \" \", \"*\", \"*\", \"*\", \" \", \" \", \" \"},\n",
    "            { \" \", \" \", \"*\", \"*\", \"*\", \"*\", \"*\", \" \", \" \"},\n",
    "            { \" \", \" \", \" \", \"*\", \"*\", \"*\", \" \", \" \", \" \"},\n",
    "            { \" \", \" \", \"*\", \"*\", \"*\", \"*\", \"*\", \" \", \" \"},\n",
    "            { \" \", \"*\", \"*\", \"*\", \"*\", \"*\", \"*\", \"*\", \" \"},\n",
    "            { \" \", \" \", \"*\", \"*\", \"*\", \"*\", \"*\", \" \", \" \"},\n",
    "            { \" \", \"*\", \"*\", \"*\", \"*\", \"*\", \"*\", \"*\", \" \"},\n",
    "            { \"*\", \"*\", \"*\", \"*\", \"*\", \"*\", \"*\", \"*\", \"*\"},\n",
    "         };\n",
    " \n",
    "       // Print out the array without using numerical values!\n",
    "       for (int i = 0; i < arr.length; ++i) {\n",
    "        for(int j = 0; j < arr[i].length; ++j) {\n",
    "          System.out.println(arr[i][j]+ \" \");\n",
    "        }\n",
    "      }\n",
    "    }\n",
    " \n",
    " }\n",
    " Test.main(null);"
   ]
  }
 ],
 "metadata": {
  "kernelspec": {
   "display_name": "Java",
   "language": "java",
   "name": "java"
  },
  "language_info": {
   "codemirror_mode": "java",
   "file_extension": ".jshell",
   "mimetype": "text/x-java-source",
   "name": "java",
   "pygments_lexer": "java",
   "version": "19.0.1"
  },
  "orig_nbformat": 4
 },
 "nbformat": 4,
 "nbformat_minor": 2
}
