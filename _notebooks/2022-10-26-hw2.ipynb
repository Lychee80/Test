{
 "cells": [
  {
   "cell_type": "markdown",
   "metadata": {},
   "source": [
    "# Unit 5 HW"
   ]
  },
  {
   "cell_type": "markdown",
   "metadata": {},
   "source": [
    "## 2021 FRQ Parts 1a & 3a"
   ]
  },
  {
   "cell_type": "code",
   "execution_count": null,
   "metadata": {},
   "outputs": [],
   "source": [
    "public class WordMatch {\n",
    "\n",
    "    private String secret;\n",
    "    public WordMatch(String word)  {\n",
    "    }\n",
    "\n",
    "    public int scoreGuess(String guess){\n",
    "    int result = 0;\n",
    "\n",
    "        for (int i = 0; i < secret.length(); i++){\n",
    "            if(secret.substring(i).indexOf(guess) == 0){\n",
    "            result++; \n",
    "        }\n",
    "    }\n",
    "\n",
    "    return result * guess.length() * guess.length();\n",
    "}"
   ]
  },
  {
   "cell_type": "code",
   "execution_count": null,
   "metadata": {},
   "outputs": [],
   "source": [
    "public ArrayList<MemberInfo> removeMembers(int year){\n",
    "    ArrayList<MemberInfor> removed = new ArrayList\n",
    "    for(int i = memberList.size()-1;i>=-; i--){\n",
    "        if (memberList.get(i).getGradYear()<= year){\n",
    "            if(memberList.get(i)/inGoodStanding()){\n",
    "                removed.add(memberList.get(i));\n",
    "            }\n",
    "            memberList.remove(i);\n",
    "        }\n",
    "    }\n",
    "    remove removed;\n",
    "}"
   ]
  }
 ],
 "metadata": {
  "kernelspec": {
   "display_name": "Java",
   "language": "java",
   "name": "java"
  },
  "language_info": {
   "name": "java"
  },
  "orig_nbformat": 4
 },
 "nbformat": 4,
 "nbformat_minor": 2
}
