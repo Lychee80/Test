{
 "cells": [
  {
   "cell_type": "markdown",
   "metadata": {},
   "source": [
    "# Iteration HW Unit 4"
   ]
  },
  {
   "cell_type": "code",
   "execution_count": 8,
   "metadata": {
    "vscode": {
     "languageId": "java"
    }
   },
   "outputs": [
    {
     "name": "stdout",
     "output_type": "stream",
     "text": [
      "Guessing Game! The range is an answer between 1-100 \n",
      "50 is too low! Try again\n",
      "Guessing Game! The range is an answer between 1-100 \n",
      "70 is too low! Try again\n",
      "Guessing Game! The range is an answer between 1-100 \n",
      "80 is too low! Try again\n",
      "Guessing Game! The range is an answer between 1-100 \n",
      "90 is too high! Try again\n",
      "Guessing Game! The range is an answer between 1-100 \n",
      "85 is too high! Try again\n",
      "Guessing Game! The range is an answer between 1-100 \n",
      "83 is too high! Try again\n",
      "Guessing Game! The range is an answer between 1-100 \n",
      "82 is too high! Try again\n",
      "Guessing Game! The range is an answer between 1-100 \n",
      "You got it! The answer is 81\n"
     ]
    }
   ],
   "source": [
    "import java.util.Scanner;\n",
    "\n",
    "class Console {\n",
    "  public static void main(String[] args) {\n",
    "    Scanner game = new Scanner(System.in);\n",
    "    boolean start = true;\n",
    "    int num = (int)(Math.random() * 101);\n",
    "    while (start) {\n",
    "        System.out.println(\"Guessing Game! The range is an answer between 1-100 \");\n",
    "       \n",
    "        int input= game.nextInt();\n",
    "        if (input > num) {\n",
    "            System.out.println(input+ \" is too high! Try again\" );\n",
    "        } else if (input < num) {\n",
    "            System.out.println( input+ \" is too low! Try again\" );\n",
    "        } else if (input == num) {\n",
    "            System.out.println(\"You got it! The answer is \" + num);\n",
    "            start = false;\n",
    "        } \n",
    "    }\n",
    "}\n",
    "  }\n",
    "\n",
    "Console.main(null);"
   ]
  },
  {
   "cell_type": "markdown",
   "metadata": {},
   "source": [
    "<img width=\"727\" alt=\"Screen Shot 2022-10-26 at 2 00 22 AM\" src=\"https://user-images.githubusercontent.com/111522883/198088805-6e69c84f-b749-4f3a-970a-8f69075533d6.png\">\n"
   ]
  }
 ],
 "metadata": {
  "kernelspec": {
   "display_name": "Java",
   "language": "java",
   "name": "java"
  },
  "language_info": {
   "codemirror_mode": "java",
   "file_extension": ".jshell",
   "mimetype": "text/x-java-source",
   "name": "Java",
   "pygments_lexer": "java",
   "version": "19.0.1"
  },
  "orig_nbformat": 4
 },
 "nbformat": 4,
 "nbformat_minor": 2
}
