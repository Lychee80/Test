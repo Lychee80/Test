{
 "cells": [
  {
   "cell_type": "code",
   "execution_count": 5,
   "metadata": {},
   "outputs": [
    {
     "ename": "CompilationException",
     "evalue": "",
     "output_type": "error",
     "traceback": [
      "\u001b[1m\u001b[30m|   \u001b[1m\u001b[30m            \u001b[0m\u001b[1m\u001b[30m\u001b[41mint option =object.nextInt();\u001b[0m\u001b[1m\u001b[30m\u001b[0m",
      "\u001b[1m\u001b[31mvariable option is already defined in method main(java.lang.String[])\u001b[0m",
      "",
      "\u001b[1m\u001b[30m|   \u001b[1m\u001b[30m            \u001b[0m\u001b[1m\u001b[30m\u001b[41mint option =object.nextInt();\u001b[0m\u001b[1m\u001b[30m\u001b[0m",
      "\u001b[1m\u001b[31mvariable option is already defined in method main(java.lang.String[])\u001b[0m",
      ""
     ]
    }
   ],
   "source": [
    "import java.util.Scanner;\n",
    "\n",
    "class Console {\n",
    "  public static void main(String[] args) {\n",
    "    System.out.println(\"Guess a number!\");\n",
    "    \n",
    "    Scanner object = new Scanner(System.in);\n",
    "    int option =object.nextInt();\n",
    "    \n",
    "    while(option!= 23){\n",
    "        if(option< 23){\n",
    "            System.out.println(\" Too low! Try again\");\n",
    "            int option =object.nextInt();\n",
    "          } else if (option> 23){\n",
    "            System.out.println(\"Too High! Try again\");\n",
    "            int option =object.nextInt();\n",
    "          } \n",
    "    }\n",
    "    System.out.println(\"You got it! The answer is 23\");\n",
    "}\n",
    "  }\n",
    "\n",
    "Console.main(null);"
   ]
  }
 ],
 "metadata": {
  "kernelspec": {
   "display_name": "Java",
   "language": "java",
   "name": "java"
  },
  "language_info": {
   "codemirror_mode": "java",
   "file_extension": ".jshell",
   "mimetype": "text/x-java-source",
   "name": "java",
   "pygments_lexer": "java",
   "version": "18.0.2+0"
  },
  "orig_nbformat": 4
 },
 "nbformat": 4,
 "nbformat_minor": 2
}
