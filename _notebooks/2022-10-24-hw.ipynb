{
 "cells": [
  {
   "cell_type": "markdown",
   "metadata": {},
   "source": [
    "# Unit 4"
   ]
  },
  {
   "cell_type": "markdown",
   "metadata": {},
   "source": [
    "- Iteration --> simplification with loops\n",
    "- Increment is ++, Decrement is --\n",
    "- Types of loops: while, for, recursion, nester iteration\n",
    "- While: while the condition is true do this\n",
    "- Do/ while: do this first and then if the condition is true continue\n",
    "- For loop: for as long as the condition is true do this \n",
    "- Recursion loop: calls itself to repeat\n",
    "- nested iteration: Loop in a loop\n"
   ]
  },
  {
   "cell_type": "markdown",
   "metadata": {},
   "source": [
    "# Pop quiz"
   ]
  },
  {
   "cell_type": "code",
   "execution_count": 5,
   "metadata": {
    "vscode": {
     "languageId": "java"
    }
   },
   "outputs": [
    {
     "name": "stdout",
     "output_type": "stream",
     "text": [
      "0\n",
      "1\n",
      "2\n",
      "3\n",
      "4\n"
     ]
    }
   ],
   "source": [
    "class main {\n",
    "  public static void main(String[] args) {\n",
    "    int i=0; \n",
    "    while(i<5){\n",
    "        System.out.println(i);\n",
    "        i++;\n",
    "    }\n",
    "\n",
    "}   \n",
    "  }\n",
    "\n",
    "main.main(null);"
   ]
  },
  {
   "cell_type": "code",
   "execution_count": 7,
   "metadata": {
    "vscode": {
     "languageId": "java"
    }
   },
   "outputs": [
    {
     "name": "stdout",
     "output_type": "stream",
     "text": [
      "0\n",
      "1\n",
      "2\n",
      "3\n",
      "4\n"
     ]
    }
   ],
   "source": [
    "class main {\n",
    "    public static void main(String[] args) {\n",
    "      \n",
    "      for(int i=0 ;i<5; i++){\n",
    "          System.out.println(i);\n",
    "      }\n",
    "      \n",
    "  }   \n",
    "    }\n",
    "  \n",
    "  main.main(null);"
   ]
  },
  {
   "cell_type": "markdown",
   "metadata": {},
   "source": [
    "# Iteration HW Unit 4"
   ]
  },
  {
   "cell_type": "code",
   "execution_count": 8,
   "metadata": {
    "vscode": {
     "languageId": "java"
    }
   },
   "outputs": [
    {
     "name": "stdout",
     "output_type": "stream",
     "text": [
      "Guessing Game! The range is an answer between 1-100 \n",
      "50 is too low! Try again\n",
      "Guessing Game! The range is an answer between 1-100 \n",
      "70 is too low! Try again\n",
      "Guessing Game! The range is an answer between 1-100 \n",
      "80 is too low! Try again\n",
      "Guessing Game! The range is an answer between 1-100 \n",
      "90 is too high! Try again\n",
      "Guessing Game! The range is an answer between 1-100 \n",
      "85 is too high! Try again\n",
      "Guessing Game! The range is an answer between 1-100 \n",
      "83 is too high! Try again\n",
      "Guessing Game! The range is an answer between 1-100 \n",
      "82 is too high! Try again\n",
      "Guessing Game! The range is an answer between 1-100 \n",
      "You got it! The answer is 81\n"
     ]
    }
   ],
   "source": [
    "import java.util.Scanner;\n",
    "\n",
    "class Console {\n",
    "  public static void main(String[] args) {\n",
    "    Scanner game = new Scanner(System.in);\n",
    "    boolean start = true;\n",
    "    int num = (int)(Math.random() * 101);\n",
    "    while (start) {\n",
    "        System.out.println(\"Guessing Game! The range is an answer between 1-100 \");\n",
    "       \n",
    "        int input= game.nextInt();\n",
    "        if (input > num) {\n",
    "            System.out.println(input+ \" is too high! Try again\" );\n",
    "        } else if (input < num) {\n",
    "            System.out.println( input+ \" is too low! Try again\" );\n",
    "        } else if (input == num) {\n",
    "            System.out.println(\"You got it! The answer is \" + num);\n",
    "            start = false;\n",
    "        } \n",
    "    }\n",
    "}\n",
    "  }\n",
    "\n",
    "Console.main(null);"
   ]
  }
 ],
 "metadata": {
  "kernelspec": {
   "display_name": "Java",
   "language": "java",
   "name": "java"
  },
  "language_info": {
   "codemirror_mode": "java",
   "file_extension": ".jshell",
   "mimetype": "text/x-java-source",
   "name": "Java",
   "pygments_lexer": "java",
   "version": "19.0.1"
  },
  "orig_nbformat": 4
 },
 "nbformat": 4,
 "nbformat_minor": 2
}
