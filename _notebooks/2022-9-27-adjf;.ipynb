{
 "cells": [
  {
   "cell_type": "code",
   "execution_count": null,
   "metadata": {
    "vscode": {
     "languageId": "html"
    }
   },
   "outputs": [],
   "source": [
    "<!DOCTYPE html>\n",
    "<html>\n",
    "<head>\n",
    "<title>Health.ly</title>\n",
    "<style>\n",
    "    .button {\n",
    "      border: none;\n",
    "      padding: 20px 40px;\n",
    "      text-align: center;\n",
    "      text-decoration: none;\n",
    "      display: inline-block;\n",
    "      font-size: 16px;\n",
    "      margin: 4px 2px;\n",
    "      cursor: pointer;\n",
    "    }\n",
    "</head>\n",
    "<body>\n",
    "    \n",
    "<h1>Make new friends!</h1>\n",
    "<button type=\"button\" onclick=\"alert('friend added!')\">Click to add friends</button>\n",
    "<table>\n",
    "    <tr>\n",
    "        <th>Friend Name</th>\n",
    "        <th>Likes</th>\n",
    "        <th>dislikes</th>\n",
    "        <th>Age</th>\n",
    "        <th>Something Special</th>\n",
    "    </tr>\n",
    "    </table>\n",
    "\n",
    "</body>\n",
    "</html>"
   ]
  }
 ],
 "metadata": {
  "kernelspec": {
   "display_name": "Python 3.10.6 64-bit",
   "language": "python",
   "name": "python3"
  },
  "language_info": {
   "name": "python",
   "version": "3.10.6"
  },
  "orig_nbformat": 4,
  "vscode": {
   "interpreter": {
    "hash": "aee8b7b246df8f9039afb4144a1f6fd8d2ca17a180786b69acc140d282b71a49"
   }
  }
 },
 "nbformat": 4,
 "nbformat_minor": 2
}
