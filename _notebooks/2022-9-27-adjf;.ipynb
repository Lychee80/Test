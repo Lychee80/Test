{
 "cells": [
  {
   "cell_type": "code",
   "execution_count": 9,
   "metadata": {
    "vscode": {
     "languageId": "java"
    }
   },
   "outputs": [
    {
     "ename": "EvalException",
     "evalue": "Index 2 out of bounds for length 2",
     "output_type": "error",
     "traceback": [
      "\u001b[1m\u001b[31m---------------------------------------------------------------------------\u001b[0m",
      "\u001b[1m\u001b[31mjava.lang.ArrayIndexOutOfBoundsException: Index 2 out of bounds for length 2\u001b[0m",
      "\u001b[1m\u001b[31m\tat Main.main(#15:7)\u001b[0m",
      "\u001b[1m\u001b[31m\tat .(#20:1)\u001b[0m"
     ]
    }
   ],
   "source": [
    "public class Main {\n",
    "    public static void main(String[]args){\n",
    "        int arr[];\n",
    "        arr=new int[2];\n",
    "        arr[0]=0;\n",
    "        arr[1]=2;\n",
    "        arr[2]=3;\n",
    "        System.out.println(arr[2]);\n",
    "    }\n",
    "}\n",
    "Main.main(null);"
   ]
  }
 ],
 "metadata": {
  "kernelspec": {
   "display_name": "Java",
   "language": "java",
   "name": "java"
  },
  "language_info": {
   "codemirror_mode": "java",
   "file_extension": ".jshell",
   "mimetype": "text/x-java-source",
   "name": "Java",
   "pygments_lexer": "java",
   "version": "18.0.2+0"
  },
  "orig_nbformat": 4,
  "vscode": {
   "interpreter": {
    "hash": "aee8b7b246df8f9039afb4144a1f6fd8d2ca17a180786b69acc140d282b71a49"
   }
  }
 },
 "nbformat": 4,
 "nbformat_minor": 2
}
