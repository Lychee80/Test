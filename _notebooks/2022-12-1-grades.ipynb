{
 "cells": [
  {
   "cell_type": "markdown",
   "metadata": {},
   "source": [
    "# Grades"
   ]
  },
  {
   "cell_type": "markdown",
   "metadata": {},
   "source": [
    "| Name | Grade | Comment| \n",
    "| ---- | ----- | -------- |\n",
    "| Aadya| .93  | Finished homework and did some notes| \n",
    "| Shreya | .96 | Took lots of notes did homework problems| \n",
    "|  Bria| 1.0 | Took lots of notes and did extra problems|\n",
    "|Don  | 1.0 | Took lots of notes and did extra problems| \n",
    "|  Nathan| 1.0 |Took lots of notes and did extra problems | \n",
    "| Krish | .90 |  Finished homework and satisfies requirements| \n",
    "| Nicholas |  .90| Finished homework and satisfies requirements | \n",
    "| Alice | .96 |Took some notes and did homework problems| \n",
    "| Samaya | .93 |Took some notes and did homework problems | \n",
    "| Sarayu | .93 | Took some notes and did homework problems| \n",
    "| Iris |  .90|Finished homework and satisfies requirements | \n",
    "|  Ellie| .96|  Finished homework and took lots of notes| \n",
    "|  Tianbin| .90 | Finished homework and satisfies requirements| \n",
    "| Daniel |  .93| Did pair coding and added in vocab | \n",
    "| Allie| .93 |Took some notes and did homework problems  | \n",
    "|  Soren| .90 |  Finished homework and satisfies requirements (weird way of submitting)| \n",
    "|Sophie  |  .90|  Finished homework and satisfies requirements| \n",
    "| Braeden |  .90| Finished homework and satisfies requirements | \n",
    "| Aarav |1.0  |Took lots of notes and did extra problems | \n",
    "| Tigran | .90 | Finished homework and satisfies requirements | \n",
    "|  Rohan| .90 | Finished homework and satisfies requirements | \n",
    "| Aryan | .93 | Finished homework and did some notes(couldn't find assignment had search )| \n",
    "| Everitt |  1.0| Finished homework and did extra problems| \n",
    "| Adi |.90  |  Finished homework and satisfies requirements| \n",
    "|  Aadit| .90 |  Finished homework and satisfies requirements| \n",
    "| Natalie |  1.0| Finished homework and did extra problems| \n",
    "|  Yash| .90|  Finished homework and satisfies requirements(slightly late but submitted before 12/1)| \n",
    "|  Dylan| .80|  Finished homework and satisfies requirements but late| \n",
    "|  Aiden| .80|  Finished homework and satisfies requirements but late| \n",
    "|  Jun| .80|  Finished homework and satisfies requirements but late| "
   ]
  },
  {
   "cell_type": "markdown",
   "metadata": {},
   "source": []
  }
 ],
 "metadata": {
  "kernelspec": {
   "display_name": "Java",
   "language": "java",
   "name": "java"
  },
  "language_info": {
   "name": "java"
  },
  "orig_nbformat": 4
 },
 "nbformat": 4,
 "nbformat_minor": 2
}
